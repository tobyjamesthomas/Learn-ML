{
 "cells": [
  {
   "cell_type": "markdown",
   "metadata": {},
   "source": [
    "## TensorFlow Basics\n",
    "These notes are a summary of Aaron Schumacher's ([@planarrowspace](https://twitter.com/planarrowspace)) awesome tutorial, [Hello, TensorFlow!](https://www.oreilly.com/learning/hello-tensorflow)\n",
    "\n",
    "Today, we'll introduce the topics of **TensorFlow graphs**, **nodes** and **operations**, and **TensorFlow sessions**.\n",
    "\n",
    "Let's begin by importing TensorFlow:"
   ]
  },
  {
   "cell_type": "code",
   "execution_count": 1,
   "metadata": {
    "collapsed": true,
    "scrolled": true
   },
   "outputs": [],
   "source": [
    "import tensorflow as tf"
   ]
  },
  {
   "cell_type": "markdown",
   "metadata": {},
   "source": [
    "### TensorFlow graph\n",
    "TensorFlow separates the definitions of computations from their executions, using graphs and sessions. Graphs define computations, while sessions execute them.\n",
    "\n",
    "TensorFlow does this to avoid the overhead of running multiple individual and expensive calculations outside of Python (it's more efficient to run these sorts of calculations in another language). Instead, this way, TensorFlow can run an entire graph of computations outside Python all at once.\n",
    "\n",
    "Each node in a graph is an operation. To see what operations are in the implicit TensorFlow graph, we use `tf.get_default_graph()` and `graph.get_operations()`."
   ]
  },
  {
   "cell_type": "code",
   "execution_count": 2,
   "metadata": {},
   "outputs": [
    {
     "name": "stdout",
     "output_type": "stream",
     "text": [
      "[]\n"
     ]
    }
   ],
   "source": [
    "graph = tf.get_default_graph()\n",
    "\n",
    "print graph.get_operations() # []"
   ]
  },
  {
   "cell_type": "markdown",
   "metadata": {},
   "source": [
    "### Adding our first node\n",
    "Our first node will be a constant. After being created, the constant now lives as a node in our graph.\n",
    "\n",
    "The constant node is represented by a protocol buffer, which TensorFlow uses internally. We can see this by printing the node's `node_def`."
   ]
  },
  {
   "cell_type": "code",
   "execution_count": 3,
   "metadata": {},
   "outputs": [
    {
     "name": "stdout",
     "output_type": "stream",
     "text": [
      "[<tf.Operation 'Const' type=Const>]\n",
      "name: \"Const\"\n",
      "op: \"Const\"\n",
      "attr {\n",
      "  key: \"dtype\"\n",
      "  value {\n",
      "    type: DT_FLOAT\n",
      "  }\n",
      "}\n",
      "attr {\n",
      "  key: \"value\"\n",
      "  value {\n",
      "    tensor {\n",
      "      dtype: DT_FLOAT\n",
      "      tensor_shape {\n",
      "      }\n",
      "      float_val: 1.0\n",
      "    }\n",
      "  }\n",
      "}\n",
      "\n"
     ]
    }
   ],
   "source": [
    "first_node = tf.constant(1.0)\n",
    "\n",
    "operations = graph.get_operations()\n",
    "print operations # [<tf.Operation 'Const' type=Const>]\n",
    "\n",
    "print operations[0].node_def\n",
    "# name: \"Const\"\n",
    "# op: \"Const\"\n",
    "# attr {\n",
    "#   key: \"dtype\"\n",
    "#   value {\n",
    "#     type: DT_FLOAT\n",
    "#   }\n",
    "# }\n",
    "# attr {\n",
    "#   key: \"value\"\n",
    "#   value {\n",
    "#     tensor {\n",
    "#       dtype: DT_FLOAT\n",
    "#       tensor_shape {\n",
    "#       }\n",
    "#       float_val: 1.0\n",
    "#     }\n",
    "#   }\n",
    "# }"
   ]
  },
  {
   "cell_type": "markdown",
   "metadata": {},
   "source": [
    "### Executing our graph\n",
    "Notice that printing `first_node` doesn't give us what number it is. To evaluate `first_node` we need to create a TensorFlow session and run `first_node`."
   ]
  },
  {
   "cell_type": "code",
   "execution_count": 4,
   "metadata": {},
   "outputs": [
    {
     "name": "stdout",
     "output_type": "stream",
     "text": [
      "Tensor(\"Const:0\", shape=(), dtype=float32)\n"
     ]
    },
    {
     "data": {
      "text/plain": [
       "1.0"
      ]
     },
     "execution_count": 4,
     "metadata": {},
     "output_type": "execute_result"
    }
   ],
   "source": [
    "print first_node # Tensor(\"Const:0\", shape=(), dtype=float32)\n",
    "\n",
    "sess = tf.Session()\n",
    "sess.run(first_node) # 1.0"
   ]
  },
  {
   "cell_type": "markdown",
   "metadata": {},
   "source": [
    "### Recap\n",
    "* TensorFlow uses a graph to define operations and a session to execute them\n",
    "* We added our `first_node` to the default graph, which was a `tf.constant()` of value `1.0`\n",
    "* To evaluate our constant, we created a TensorFlow session and ran our `first_node`\n",
    "\n",
    "Ayoo, that wasn't so bad, right? Let's move on to create our first neuron..."
   ]
  },
  {
   "cell_type": "code",
   "execution_count": null,
   "metadata": {
    "collapsed": true
   },
   "outputs": [],
   "source": []
  }
 ],
 "metadata": {
  "kernelspec": {
   "display_name": "Python 2",
   "language": "python",
   "name": "python2"
  },
  "language_info": {
   "codemirror_mode": {
    "name": "ipython",
    "version": 2
   },
   "file_extension": ".py",
   "mimetype": "text/x-python",
   "name": "python",
   "nbconvert_exporter": "python",
   "pygments_lexer": "ipython2",
   "version": "2.7.13"
  }
 },
 "nbformat": 4,
 "nbformat_minor": 2
}
